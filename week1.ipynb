{
 "cells": [
  {
   "cell_type": "code",
   "execution_count": null,
   "metadata": {
    "collapsed": true
   },
   "outputs": [],
   "source": [
    "from __future__ import print_function\n",
    "\n",
    "import cv2\n",
    "import numpy as np\n",
    "import matplotlib.pyplot as plt\n",
    "\n",
    "path = 'tst_1.png'\n",
    "img = cv2.imread(path)\n",
    "assert img is not None\n",
    "\n",
    "print('original shape:', img.shape)\n",
    "print('type: %s' % type(img))\n",
    "\n",
    "scaled = cv2.resize(img, None, fx=0.5, fy=0.5)\n",
    "print('scaled shape:', scaled.shape)\n",
    "\n",
    "\n",
    "gray = scaled.sum(axis=2)\n",
    "f, (ax1, ax2) = plt.subplots(1, 2)\n",
    "ax1.imshow(scaled)\n",
    "ax2.imshow(gray, cmap='gray')\n",
    "f.show()\n",
    "\n",
    "\n",
    "scaled = cv2.cvtColor(scaled, cv2.COLOR_BGR2RGB)\n",
    "plt.imshow(scaled)\n",
    "# plt.show()\n",
    "\n",
    "cv2.imshow('scaled', scaled)\n",
    "cv2.waitKey(0)\n",
    "cv2.destroyAllWindows()\n",
    "\n",
    "# Grey World\n",
    "w, h, _ = scaled.shape\n",
    "\n",
    "ch_ave = np.sum(np.sum(scaled, axis=0), axis=0).astype(float)\n",
    "ch_ave /= w * h\n",
    "print(ch_ave)\n",
    "ch_ave /= ch_ave.mean()\n",
    "grw = np.divide(scaled, ch_ave)\n",
    "grw[grw > 255.0] = 255.0\n",
    "grw = grw.astype(np.uint8)\n",
    "\n",
    "eq = scaled.copy()\n",
    "for i in range(3):\n",
    "    eq[:,:, i] = cv2.equalizeHist(scaled[:,:,i])\n",
    "\n",
    "f, (ax1, ax2, ax3) = plt.subplots(1, 3)\n",
    "ax1.imshow(scaled)\n",
    "ax2.imshow(grw)\n",
    "ax3.imshow(eq)\n",
    "\n",
    "f.show()"
   ]
  },
  {
   "cell_type": "code",
   "execution_count": null,
   "metadata": {},
   "outputs": [],
   "source": [
    ""
   ]
  },
  {
   "cell_type": "code",
   "execution_count": null,
   "metadata": {},
   "outputs": [],
   "source": [
    ""
   ]
  }
 ],
 "metadata": {
  "kernelspec": {
   "display_name": "Python 2",
   "language": "python",
   "name": "python2"
  },
  "language_info": {
   "codemirror_mode": {
    "name": "ipython",
    "version": 2.0
   },
   "file_extension": ".py",
   "mimetype": "text/x-python",
   "name": "python",
   "nbconvert_exporter": "python",
   "pygments_lexer": "ipython2",
   "version": "2.7.6"
  }
 },
 "nbformat": 4,
 "nbformat_minor": 0
}